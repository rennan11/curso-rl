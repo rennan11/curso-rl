{
 "cells": [
  {
   "cell_type": "markdown",
   "metadata": {
    "id": "1IETxgew128n"
   },
   "source": [
    "# Definindo funções"
   ]
  },
  {
   "cell_type": "code",
   "execution_count": 1,
   "metadata": {
    "id": "87ydSi-r1_Qt"
   },
   "outputs": [],
   "source": [
    "def fib(n):    #Definição da função que gera a série de Fibonacci\n",
    "  \"\"\"Imprime a série de Fibonacci \n",
    "  \n",
    "     até o número n.\"\"\"\n",
    "  a, b = 0, 1\n",
    "  while a < n:\n",
    "    print(a, end=' ')\n",
    "    a, b = b, a+b\n",
    "  print()"
   ]
  },
  {
   "cell_type": "code",
   "execution_count": 2,
   "metadata": {
    "colab": {
     "base_uri": "https://localhost:8080/"
    },
    "id": "49L-8bId2Pmj",
    "outputId": "7d88692b-faaf-41d4-9ff0-69462a7898a5"
   },
   "outputs": [
    {
     "name": "stdout",
     "output_type": "stream",
     "text": [
      "0 1 1 2 3 5 8 13 21 34 55 89 144 233 377 610 987 1597 \n"
     ]
    }
   ],
   "source": [
    "fib(2000)"
   ]
  },
  {
   "cell_type": "markdown",
   "metadata": {
    "id": "QjMFOCVg27KR"
   },
   "source": [
    "- A definição de uma função é iniciada pela palavra-chave **def**\n",
    "- A seguir vem o **nome** da função e a lista de **parâmetros formais** entre parêntesis\n",
    "- Os enunciados que compõem o corpo da função devem vir nas linhas a seguir e devem estar identados.\n",
    "- O primeiro enunciado da função pode ser (é opcional) uma string de documentação da função (**docstring**). As docstrings podem ocupar várias linhas e devem vir entre aspas triplas. Deve ser sempre incluído na definição de funções.\n",
    "- O enunciado **return** é usado para retornar um valor de uma função. Se ele não tiver nenhum argumento, retornará **None**"
   ]
  },
  {
   "cell_type": "code",
   "execution_count": 3,
   "metadata": {
    "colab": {
     "base_uri": "https://localhost:8080/"
    },
    "id": "LDRTXjAS-asA",
    "outputId": "ff966123-65dd-4cd2-ea69-009f2020e573"
   },
   "outputs": [
    {
     "name": "stdout",
     "output_type": "stream",
     "text": [
      "Imprime a série de Fibonacci \n",
      "  \n",
      "     até o número n.\n"
     ]
    }
   ],
   "source": [
    "print(fib.__doc__)"
   ]
  },
  {
   "cell_type": "code",
   "execution_count": 4,
   "metadata": {
    "colab": {
     "base_uri": "https://localhost:8080/"
    },
    "id": "7vJEFjA2-naw",
    "outputId": "9a0afbed-2426-4163-8ba2-5c1183305cca"
   },
   "outputs": [
    {
     "name": "stdout",
     "output_type": "stream",
     "text": [
      "0 \n",
      "None\n"
     ]
    }
   ],
   "source": [
    "print(fib(1))"
   ]
  },
  {
   "cell_type": "markdown",
   "metadata": {
    "id": "bqbrzlHq47na"
   },
   "source": [
    "**Exercício 1:** criar uma função para imprimir todos os inteiros em um intervado dado"
   ]
  },
  {
   "cell_type": "code",
   "execution_count": 10,
   "metadata": {
    "id": "KNINhPX_5NjJ"
   },
   "outputs": [
    {
     "name": "stdout",
     "output_type": "stream",
     "text": [
      "5 6 7 8 9 10 11 12 13 14 15 16 17 18 19 20 21 22 23 24 25 26 27 28 29 30 31 32 33 34 35 36 37 38 39 40 41 42 43 44 45 46 47 48 49 50 "
     ]
    }
   ],
   "source": [
    "def inteiros(i, f):\n",
    "    for i in range(i, f+1):\n",
    "        print(i, end=' ')\n",
    "\n",
    "inteiros(5, 50)"
   ]
  },
  {
   "cell_type": "markdown",
   "metadata": {
    "id": "Qs6aQt-05ODg"
   },
   "source": [
    "**Exercício 2:** criar uma função para retorna uma lista com todos os inteiros em um intervado dado (usar o método **append**)"
   ]
  },
  {
   "cell_type": "code",
   "execution_count": 11,
   "metadata": {
    "id": "YOOuIy-o8wgH"
   },
   "outputs": [
    {
     "name": "stdout",
     "output_type": "stream",
     "text": [
      "[5, 6, 7, 8, 9, 10, 11, 12, 13, 14, 15, 16, 17, 18, 19, 20, 21, 22, 23, 24, 25, 26, 27, 28, 29, 30, 31, 32, 33, 34, 35, 36, 37, 38, 39, 40, 41, 42, 43, 44, 45, 46, 47, 48, 49, 50]\n"
     ]
    }
   ],
   "source": [
    "def inteirosL(i, f):\n",
    "    l = []\n",
    "    for i in range(i, f+1):\n",
    "        l.append(i)\n",
    "    print(l)\n",
    "    \n",
    "inteirosL(5, 50)"
   ]
  },
  {
   "cell_type": "markdown",
   "metadata": {
    "id": "mnv6Pflm_W2M"
   },
   "source": [
    "## Valores predefinidos de argumentos"
   ]
  },
  {
   "cell_type": "code",
   "execution_count": 12,
   "metadata": {
    "id": "RabTISGD_jTj"
   },
   "outputs": [],
   "source": [
    "def confirma(mensagem, tentativas=4, msg='Tente novamente!'):\n",
    "    while True:\n",
    "        ok = input(mensagem)\n",
    "        if ok in ('s', 'si', 'sim'): # in: checa se ok está na sequência\n",
    "            return True\n",
    "        if ok in ('n', 'na', 'nao'):\n",
    "            return False\n",
    "        tentativas = tentativas - 1\n",
    "        if tentativas < 0:\n",
    "            raise ValueError('Resposta errada do usuário!')\n",
    "        print(msg)"
   ]
  },
  {
   "cell_type": "markdown",
   "metadata": {
    "id": "tpjBap-zAPXm"
   },
   "source": [
    "Esta função pode ser chamada de quatro formas diferentes:\n",
    "\n",
    "- passando o argumento obrigatório: *confirma('Quer mesmo sair?')*\n",
    "- passando um dos três argumentos opcionais: *confirma('Sobrescrever o arquivo?', 2)*\n",
    "- ou passando todos os argumentos: *confirma('Sobrescrever o arquivo?', 2, 'Digite somente sim ou nao')*"
   ]
  },
  {
   "cell_type": "code",
   "execution_count": 14,
   "metadata": {
    "colab": {
     "base_uri": "https://localhost:8080/"
    },
    "id": "PwKvx67SARex",
    "outputId": "5673e025-ef70-415c-9580-08c8b84f0e10"
   },
   "outputs": [
    {
     "name": "stdin",
     "output_type": "stream",
     "text": [
      "Quer mesmo sair? s\n"
     ]
    },
    {
     "data": {
      "text/plain": [
       "True"
      ]
     },
     "execution_count": 14,
     "metadata": {},
     "output_type": "execute_result"
    }
   ],
   "source": [
    "confirma('Quer mesmo sair?')"
   ]
  },
  {
   "cell_type": "code",
   "execution_count": 15,
   "metadata": {
    "colab": {
     "base_uri": "https://localhost:8080/"
    },
    "id": "bsCEusjsBzQk",
    "outputId": "10e8ecf6-35a0-4376-c675-e6964e958716"
   },
   "outputs": [
    {
     "name": "stdin",
     "output_type": "stream",
     "text": [
      "Sobrescrever o arquivo? n\n"
     ]
    },
    {
     "data": {
      "text/plain": [
       "False"
      ]
     },
     "execution_count": 15,
     "metadata": {},
     "output_type": "execute_result"
    }
   ],
   "source": [
    "confirma('Sobrescrever o arquivo?', 2)"
   ]
  },
  {
   "cell_type": "code",
   "execution_count": 16,
   "metadata": {
    "colab": {
     "base_uri": "https://localhost:8080/"
    },
    "id": "0xkdQlcOB4d2",
    "outputId": "a28b4fae-da3d-4172-9c1b-7a57649411db"
   },
   "outputs": [
    {
     "name": "stdin",
     "output_type": "stream",
     "text": [
      "Sobrescrever o arquivo? t\n"
     ]
    },
    {
     "name": "stdout",
     "output_type": "stream",
     "text": [
      "Digite somente sim ou nao\n"
     ]
    },
    {
     "name": "stdin",
     "output_type": "stream",
     "text": [
      "Sobrescrever o arquivo? s\n"
     ]
    },
    {
     "data": {
      "text/plain": [
       "True"
      ]
     },
     "execution_count": 16,
     "metadata": {},
     "output_type": "execute_result"
    }
   ],
   "source": [
    "confirma('Sobrescrever o arquivo?', 2, 'Digite somente sim ou nao')"
   ]
  },
  {
   "cell_type": "markdown",
   "metadata": {
    "id": "mZ78xk4OCu4r"
   },
   "source": [
    "**Observações : ** \n",
    "- Os valores predefinidos são avaliados no ponto da definição da função.\n",
    "- Os valores predefinidos são avaliados somente uma vez. Isto faz diferença quando se trata de um objeto que pode ser modificado, como listas, dicionários ou instâncias de classes."
   ]
  },
  {
   "cell_type": "code",
   "execution_count": 17,
   "metadata": {
    "colab": {
     "base_uri": "https://localhost:8080/"
    },
    "id": "Q3WouBigC7WZ",
    "outputId": "79b866b9-6a7b-48e5-fcb5-24492d7db562"
   },
   "outputs": [
    {
     "name": "stdout",
     "output_type": "stream",
     "text": [
      "1\n",
      "valor de x: 3\n"
     ]
    }
   ],
   "source": [
    "x = 1\n",
    "\n",
    "def f(n=x):\n",
    "  print(n)\n",
    "  \n",
    "x +=2\n",
    "\n",
    "f()\n",
    "print('valor de x:', x)"
   ]
  },
  {
   "cell_type": "code",
   "execution_count": 18,
   "metadata": {
    "id": "-st9TNBEESie"
   },
   "outputs": [],
   "source": [
    "def f(a, L=[]): # L recebe o valor [] somente na definição\n",
    "  L.append(a)   # o valor de L é alterado\n",
    "  return(L)"
   ]
  },
  {
   "cell_type": "code",
   "execution_count": 19,
   "metadata": {
    "colab": {
     "base_uri": "https://localhost:8080/"
    },
    "id": "fxIauzpUEcmT",
    "outputId": "b0d511bd-8571-4158-eabf-da3d48fd470a"
   },
   "outputs": [
    {
     "name": "stdout",
     "output_type": "stream",
     "text": [
      "[1]\n"
     ]
    }
   ],
   "source": [
    "print(f(1))"
   ]
  },
  {
   "cell_type": "code",
   "execution_count": 20,
   "metadata": {
    "colab": {
     "base_uri": "https://localhost:8080/"
    },
    "id": "iwleeSzSEfPV",
    "outputId": "13f980c4-d504-447f-ea1e-72ab1aeb3efb"
   },
   "outputs": [
    {
     "name": "stdout",
     "output_type": "stream",
     "text": [
      "[1, 2]\n"
     ]
    }
   ],
   "source": [
    "print(f(2))"
   ]
  },
  {
   "cell_type": "code",
   "execution_count": 21,
   "metadata": {
    "colab": {
     "base_uri": "https://localhost:8080/"
    },
    "id": "RQ-Ig1BYEhWx",
    "outputId": "8582b35a-4e6c-4ffb-c5de-17f2b6addf80"
   },
   "outputs": [
    {
     "name": "stdout",
     "output_type": "stream",
     "text": [
      "[1, 2, 3]\n"
     ]
    }
   ],
   "source": [
    "print(f(3))"
   ]
  },
  {
   "cell_type": "markdown",
   "metadata": {
    "id": "o_-rAZBiFTmh"
   },
   "source": [
    "Caso não se deseje compartilhar o valor de L entre as diversas chamadas da função:"
   ]
  },
  {
   "cell_type": "code",
   "execution_count": 22,
   "metadata": {
    "id": "WYKnWF8ZFjJ2"
   },
   "outputs": [],
   "source": [
    "def f(a, L=None):\n",
    "    if L is None:\n",
    "        L = []\n",
    "    L.append(a)\n",
    "    return L"
   ]
  },
  {
   "cell_type": "code",
   "execution_count": 23,
   "metadata": {
    "colab": {
     "base_uri": "https://localhost:8080/"
    },
    "id": "1lkJKL0JFpvS",
    "outputId": "f3a0fa18-764d-4d06-b6ca-2e1e14c17c7d"
   },
   "outputs": [
    {
     "name": "stdout",
     "output_type": "stream",
     "text": [
      "[1]\n"
     ]
    }
   ],
   "source": [
    "print(f(1))"
   ]
  },
  {
   "cell_type": "markdown",
   "metadata": {
    "id": "CT-OA8edKHJk"
   },
   "source": [
    "##Argumentos chave (*keyword arguments*)"
   ]
  },
  {
   "cell_type": "code",
   "execution_count": 24,
   "metadata": {
    "id": "5BJo57avKPRD"
   },
   "outputs": [],
   "source": [
    "def aluno(matricula, status='matriculado', entrada='universal', pontos=100):\n",
    "  print('Aluno', status, end=' ')\n",
    "  print('com número ', matricula)\n",
    "  print('Ele obteve ', pontos, 'pontos no ENEM')\n",
    "  print('Foi aprovado por seleção ',entrada)\n",
    "  "
   ]
  },
  {
   "cell_type": "markdown",
   "metadata": {
    "id": "8xkPJYyvOUGa"
   },
   "source": [
    "**Chamada válidas para a função:**"
   ]
  },
  {
   "cell_type": "code",
   "execution_count": 25,
   "metadata": {
    "colab": {
     "base_uri": "https://localhost:8080/"
    },
    "id": "8K9jMrssMMeL",
    "outputId": "8c5eba40-957b-426b-fa04-448db2fe330b"
   },
   "outputs": [
    {
     "name": "stdout",
     "output_type": "stream",
     "text": [
      "Aluno matriculado com número  3242018\n",
      "Ele obteve  100 pontos no ENEM\n",
      "Foi aprovado por seleção  universal\n"
     ]
    }
   ],
   "source": [
    "aluno(3242018)"
   ]
  },
  {
   "cell_type": "code",
   "execution_count": 26,
   "metadata": {
    "colab": {
     "base_uri": "https://localhost:8080/"
    },
    "id": "B3dJSnBMMycO",
    "outputId": "4d73ba11-f149-4752-fa69-5dc4319adf26"
   },
   "outputs": [
    {
     "name": "stdout",
     "output_type": "stream",
     "text": [
      "Aluno matriculado com número  3242018\n",
      "Ele obteve  100 pontos no ENEM\n",
      "Foi aprovado por seleção  universal\n"
     ]
    }
   ],
   "source": [
    "aluno(matricula=3242018)"
   ]
  },
  {
   "cell_type": "code",
   "execution_count": 27,
   "metadata": {
    "colab": {
     "base_uri": "https://localhost:8080/"
    },
    "id": "X-oPNVugM4jZ",
    "outputId": "fcf17718-df93-4907-c6ee-1b897ecbd773"
   },
   "outputs": [
    {
     "name": "stdout",
     "output_type": "stream",
     "text": [
      "Aluno matriculado com número  3242018\n",
      "Ele obteve  100 pontos no ENEM\n",
      "Foi aprovado por seleção  quotas\n"
     ]
    }
   ],
   "source": [
    "aluno(matricula=3242018, entrada='quotas')"
   ]
  },
  {
   "cell_type": "code",
   "execution_count": 28,
   "metadata": {
    "colab": {
     "base_uri": "https://localhost:8080/"
    },
    "id": "5e8wTnzAND5d",
    "outputId": "cd1710e0-b0ca-47c7-a1d5-3fa985537522"
   },
   "outputs": [
    {
     "name": "stdout",
     "output_type": "stream",
     "text": [
      "Aluno não matriculado com número  1242015\n",
      "Ele obteve  100 pontos no ENEM\n",
      "Foi aprovado por seleção  universal\n"
     ]
    }
   ],
   "source": [
    "aluno(status='não matriculado', matricula=1242015)"
   ]
  },
  {
   "cell_type": "code",
   "execution_count": 29,
   "metadata": {
    "colab": {
     "base_uri": "https://localhost:8080/"
    },
    "id": "cuJq5WnhNk84",
    "outputId": "2d53ff13-f030-4a97-c333-09adc9ea9d79"
   },
   "outputs": [
    {
     "name": "stdout",
     "output_type": "stream",
     "text": [
      "Aluno quota com número  não matriculado\n",
      "Ele obteve  100 pontos no ENEM\n",
      "Foi aprovado por seleção  120\n"
     ]
    }
   ],
   "source": [
    "aluno('não matriculado', 'quota', 120)"
   ]
  },
  {
   "cell_type": "code",
   "execution_count": 30,
   "metadata": {
    "colab": {
     "base_uri": "https://localhost:8080/"
    },
    "id": "5J9qMAguNwnS",
    "outputId": "162e9705-0519-4e17-f9cb-46411481f3e7"
   },
   "outputs": [
    {
     "name": "stdout",
     "output_type": "stream",
     "text": [
      "Aluno não matriculado com número  3452017\n",
      "Ele obteve  100 pontos no ENEM\n",
      "Foi aprovado por seleção  quota\n"
     ]
    }
   ],
   "source": [
    "aluno('3452017', status='não matriculado', entrada='quota')"
   ]
  }
 ],
 "metadata": {
  "colab": {
   "collapsed_sections": [],
   "name": "Funções.ipynb",
   "provenance": []
  },
  "kernelspec": {
   "display_name": "Python 3 (ipykernel)",
   "language": "python",
   "name": "python3"
  },
  "language_info": {
   "codemirror_mode": {
    "name": "ipython",
    "version": 3
   },
   "file_extension": ".py",
   "mimetype": "text/x-python",
   "name": "python",
   "nbconvert_exporter": "python",
   "pygments_lexer": "ipython3",
   "version": "3.8.11"
  }
 },
 "nbformat": 4,
 "nbformat_minor": 4
}
